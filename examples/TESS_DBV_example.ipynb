{
 "cells": [
  {
   "cell_type": "markdown",
   "metadata": {},
   "source": [
    "This first example of the basic usage of the Pyriod package was demonstrated at the [TASC5/KASC12 workshop](https://web.mit.edu/tasc5/) in Boston 22-26 July 2019.  It shows how to reproduce the frequency analysis of a pulsating helium-atmosphere white dwarf presented in [Bell et al. (A&A, 632, A42)](https://ui.adsabs.harvard.edu/abs/2019A%26A...632A..42B).  \n",
    "\n",
    "See the online [tutorial](https://pyriod.readthedocs.io/en/latest/tutorial/) for more info about how to use Pyriod."
   ]
  },
  {
   "cell_type": "code",
   "execution_count": 1,
   "metadata": {},
   "outputs": [],
   "source": [
    "%matplotlib widget\n",
    "import lightkurve as lk\n",
    "from Pyriod import Pyriod"
   ]
  },
  {
   "cell_type": "code",
   "execution_count": 2,
   "metadata": {},
   "outputs": [
    {
     "name": "stderr",
     "output_type": "stream",
     "text": [
      "Warning: 31% (5960/19412) of the cadences will be ignored due to the quality mask (quality_bitmask=175).\n"
     ]
    }
   ],
   "source": [
    "#Download light curve of a DBV white dwarf pulsator observed by TESS\n",
    "#Then smooth and remove outliers\n",
    "lc = lk.search_lightcurve('TIC 257459955',mission='TESS',sector=3)[0].download().flatten(2161).remove_outliers(5)"
   ]
  },
  {
   "cell_type": "code",
   "execution_count": 3,
   "metadata": {},
   "outputs": [],
   "source": [
    "#Instantiate Pyriod object\n",
    "pyriod = Pyriod(lc)"
   ]
  },
  {
   "cell_type": "code",
   "execution_count": 4,
   "metadata": {},
   "outputs": [
    {
     "data": {
      "application/vnd.jupyter.widget-view+json": {
       "model_id": "cf8662667f364777ad4269285c488cfd",
       "version_major": 2,
       "version_minor": 0
      },
      "text/plain": [
       "VBox(children=(HTML(value=''), Canvas(toolbar=Toolbar(toolitems=[('Home', 'Reset original view', 'home', 'home…"
      ]
     },
     "metadata": {},
     "output_type": "display_data"
    }
   ],
   "source": [
    "#Interact with time series\n",
    "pyriod.TimeSeries()"
   ]
  },
  {
   "cell_type": "code",
   "execution_count": 5,
   "metadata": {
    "scrolled": false
   },
   "outputs": [
    {
     "data": {
      "application/vnd.jupyter.widget-view+json": {
       "model_id": "e2ddafde440444f68a3626804ba06443",
       "version_major": 2,
       "version_minor": 0
      },
      "text/plain": [
       "VBox(children=(HTML(value=''), HBox(children=(Text(value='1561.2133223145102', description='Frequency:', place…"
      ]
     },
     "metadata": {},
     "output_type": "display_data"
    }
   ],
   "source": [
    "#Interact with periodogram\n",
    "pyriod.Periodogram()"
   ]
  },
  {
   "cell_type": "code",
   "execution_count": 6,
   "metadata": {},
   "outputs": [
    {
     "data": {
      "application/vnd.jupyter.widget-view+json": {
       "model_id": "7e40fbc61b054018a12d5f046fe1dfe6",
       "version_major": 2,
       "version_minor": 0
      },
      "text/plain": [
       "VBox(children=(HTML(value=''), HBox(children=(Button(description='Refine fit', icon='refresh', style=ButtonSty…"
      ]
     },
     "metadata": {},
     "output_type": "display_data"
    }
   ],
   "source": [
    "#Interact with frequency solution\n",
    "pyriod.Signals()"
   ]
  },
  {
   "cell_type": "code",
   "execution_count": 7,
   "metadata": {},
   "outputs": [
    {
     "data": {
      "application/vnd.jupyter.widget-view+json": {
       "model_id": "290afc79f9d34abaa1b4d0ab9b46984a",
       "version_major": 2,
       "version_minor": 0
      },
      "text/plain": [
       "VBox(children=(Box(children=(HTML(value=\"2021-06-09 20:16:56,165 - INFO - Initiating Pyriod instance 0.<br>\\n2…"
      ]
     },
     "metadata": {},
     "output_type": "display_data"
    }
   ],
   "source": [
    "#Interact with log\n",
    "pyriod.Log()"
   ]
  },
  {
   "cell_type": "code",
   "execution_count": 8,
   "metadata": {
    "scrolled": false
   },
   "outputs": [
    {
     "data": {
      "application/vnd.jupyter.widget-view+json": {
       "model_id": "2fa0cbde08ca4522bcecf346c4bad47f",
       "version_major": 2,
       "version_minor": 0
      },
      "text/plain": [
       "Tab(children=(VBox(children=(HTML(value=''), Canvas(toolbar=Toolbar(toolitems=[('Home', 'Reset original view',…"
      ]
     },
     "metadata": {},
     "output_type": "display_data"
    }
   ],
   "source": [
    "#Show all panels in tabs (may be buggy in Python 3)\n",
    "pyriod.Pyriod()"
   ]
  }
 ],
 "metadata": {
  "kernelspec": {
   "display_name": "Python 3",
   "language": "python",
   "name": "python3"
  },
  "language_info": {
   "codemirror_mode": {
    "name": "ipython",
    "version": 3
   },
   "file_extension": ".py",
   "mimetype": "text/x-python",
   "name": "python",
   "nbconvert_exporter": "python",
   "pygments_lexer": "ipython3",
   "version": "3.7.5"
  }
 },
 "nbformat": 4,
 "nbformat_minor": 2
}
