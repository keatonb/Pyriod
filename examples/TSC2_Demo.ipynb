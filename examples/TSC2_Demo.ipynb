{
 "cells": [
  {
   "cell_type": "markdown",
   "id": "496f25fb",
   "metadata": {},
   "source": [
    "## Pyriod Tutorial: Python Tools for Pre-Whitening Frequency Analysis\n",
    "\n",
    "This interactive demo shows how to use the new Python package Pyriod to analyze TESS light curves.\n",
    "\n",
    "Run the code in each sequential cell by holding `shift` and hitting `return`.\n",
    "\n",
    "Note that this notebook will shut down after 10 minutes of inactivity.  Refresh the page to access a new copy.\n",
    "\n",
    "You can install this package on your own machine with `pip install Pyriod`."
   ]
  },
  {
   "cell_type": "code",
   "execution_count": null,
   "id": "414c7470",
   "metadata": {},
   "outputs": [],
   "source": [
    "%matplotlib widget\n",
    "import lightkurve as lk\n",
    "from Pyriod import Pyriod"
   ]
  },
  {
   "cell_type": "markdown",
   "id": "1d171b4e",
   "metadata": {},
   "source": [
    "Use the cell below to search for your favorite TESS light curve to analyze, using [lightkurve](http://lightkurve.org/).\n",
    "\n",
    "If you don't already have a favorite TESS light curve, here are some interesting suggestions:\n",
    " - (pulsating helium-atmpshere white dwarf star)\n",
    " - (delta scuti variable)\n",
    " - Sextuplely eclipsing binary"
   ]
  },
  {
   "cell_type": "code",
   "execution_count": null,
   "id": "02fc2ad1",
   "metadata": {},
   "outputs": [],
   "source": [
    "targetname = 'TIC 900086743'\n",
    "\n",
    "searchresults = lk.search_lightcurve(targetname,mission='TESS')\n",
    "searchresults"
   ]
  },
  {
   "cell_type": "markdown",
   "id": "c1fa511b",
   "metadata": {},
   "source": [
    "Choose the light curve product you'd like to analyze by number.\n",
    "\n",
    "We'll download the light curve and do some mimimal processing (outlier rejection and detrending)."
   ]
  },
  {
   "cell_type": "code",
   "execution_count": null,
   "id": "52714055",
   "metadata": {},
   "outputs": [],
   "source": [
    "downloadnum = 0 # Change this to download a different search result\n",
    "\n",
    "# Download and remove nans (required)\n",
    "lc = searchresults[downloadnum].download().remove_nans()\n",
    "\n",
    "# Remove outliers\n",
    "lc = lc.remove_outliers(sigma = 7)\n",
    "\n",
    "# Normalize\n",
    "lc = lc.normalize()\n",
    "\n",
    "#Detrend\n",
    "lc = lc.flatten(window_length = 1001)"
   ]
  },
  {
   "cell_type": "markdown",
   "id": "6fa49c0a",
   "metadata": {},
   "source": [
    "Now pass the light curve data to Pyriod to begin you interactive frequency analysis."
   ]
  },
  {
   "cell_type": "code",
   "execution_count": null,
   "id": "e9a0e06a",
   "metadata": {},
   "outputs": [],
   "source": [
    "# Send the light curve to Pyriod for analysis\n",
    "pyriod = Pyriod(lc, amp_unit='ppt', freq_unit='muHz')"
   ]
  },
  {
   "cell_type": "markdown",
   "id": "52908f96",
   "metadata": {},
   "source": [
    "Pyriod has four interactive cell types: TimeSeries, Periodogram, Signals, and Log.\n",
    "\n",
    "Let's display these in the next four cells. Information about how to interact with each can be displayed by clicking the \"info\" bar."
   ]
  },
  {
   "cell_type": "code",
   "execution_count": null,
   "id": "cd23d26e",
   "metadata": {},
   "outputs": [],
   "source": [
    "#Display TimeSeries widget\n",
    "pyriod.TimeSeries()"
   ]
  },
  {
   "cell_type": "code",
   "execution_count": null,
   "id": "d8ccd187",
   "metadata": {},
   "outputs": [],
   "source": [
    "#Display Periodogram widget\n",
    "pyriod.Periodogram()"
   ]
  },
  {
   "cell_type": "code",
   "execution_count": null,
   "id": "3eb98fef",
   "metadata": {},
   "outputs": [],
   "source": [
    "#Display Signals widget\n",
    "pyriod.Signals()"
   ]
  },
  {
   "cell_type": "code",
   "execution_count": null,
   "id": "3b579cff",
   "metadata": {},
   "outputs": [],
   "source": [
    "#Display Log widget\n",
    "pyriod.Log()"
   ]
  },
  {
   "cell_type": "markdown",
   "id": "a253b742",
   "metadata": {},
   "source": [
    "You can interact with the cells above in any order, and each cell will update based on interactions with the others. \n",
    "\n",
    "Here are some things to try:\n",
    " - \n",
    " - \n",
    " - \n",
    " - \n",
    " -\n",
    " \n",
    "You can also display all widgets in different tabs of the same cell as follows, if you prefer."
   ]
  },
  {
   "cell_type": "code",
   "execution_count": null,
   "id": "2091e1bc",
   "metadata": {},
   "outputs": [],
   "source": [
    "pyriod.Pyriod()"
   ]
  },
  {
   "cell_type": "markdown",
   "id": "779ff180",
   "metadata": {},
   "source": [
    "If you experience any issues or have comments or questions, you can email me at keatonb@uw.edu, open an issue [on Github](https://github.com/keatonb/Pyriod/issues), Tweet to [@astrokeat](https://www.twitter.com/astrokeat), or connect with me at the conference!"
   ]
  }
 ],
 "metadata": {
  "kernelspec": {
   "display_name": "Python 3",
   "language": "python",
   "name": "python3"
  },
  "language_info": {
   "codemirror_mode": {
    "name": "ipython",
    "version": 3
   },
   "file_extension": ".py",
   "mimetype": "text/x-python",
   "name": "python",
   "nbconvert_exporter": "python",
   "pygments_lexer": "ipython3",
   "version": "3.7.5"
  }
 },
 "nbformat": 4,
 "nbformat_minor": 5
}
