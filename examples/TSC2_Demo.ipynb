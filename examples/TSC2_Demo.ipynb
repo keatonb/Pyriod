{
 "cells": [
  {
   "cell_type": "markdown",
   "id": "5b6f0aae",
   "metadata": {},
   "source": [
    "## Pyriod Tutorial: Python Tools for Pre-Whitening Frequency Analysis\n",
    "\n",
    "This interactive demo shows how to use the new Python package Pyriod to analyze TESS light curves.\n",
    "\n",
    "Run the code in each sequential cell by holding `shift` and hitting `return`.\n",
    "\n",
    "Note that this notebook will shut down after 10 minutes of inactivity.  [Click here](https://dirac.us/oil) to launch a fresh notebook.\n",
    "\n",
    "You can install this package on your own machine with `pip install Pyriod`."
   ]
  },
  {
   "cell_type": "code",
   "execution_count": null,
   "id": "7818b5b7",
   "metadata": {},
   "outputs": [],
   "source": [
    "%matplotlib widget\n",
    "import lightkurve as lk\n",
    "from Pyriod import Pyriod"
   ]
  },
  {
   "cell_type": "markdown",
   "id": "85be70f8",
   "metadata": {},
   "source": [
    "Use the cell below to search for your favorite TESS light curve to analyze, using [lightkurve](http://lightkurve.org/).\n",
    "\n",
    "If you don't already have a favorite TESS light curve, here are some interesting suggestions:\n",
    " - (pulsating helium-atmpshere white dwarf star)\n",
    " - (delta scuti variable)\n",
    " - Sextuplely eclipsing binary"
   ]
  },
  {
   "cell_type": "code",
   "execution_count": null,
   "id": "1b807d56",
   "metadata": {},
   "outputs": [],
   "source": [
    "targetname = 'TIC 900086743'\n",
    "\n",
    "searchresults = lk.search_lightcurve(targetname,mission='TESS')\n",
    "searchresults"
   ]
  },
  {
   "cell_type": "markdown",
   "id": "947974f9",
   "metadata": {},
   "source": [
    "Choose the light curve product you'd like to analyze by number.\n",
    "\n",
    "We'll download the light curve and do some mimimal processing (outlier rejection and detrending)."
   ]
  },
  {
   "cell_type": "code",
   "execution_count": null,
   "id": "44cdf192",
   "metadata": {},
   "outputs": [],
   "source": [
    "downloadnum = 0 # Change this to download a different search result\n",
    "\n",
    "# Download and remove nans (required)\n",
    "lc = searchresults[downloadnum].download().remove_nans()\n",
    "\n",
    "# Remove outliers\n",
    "lc = lc.remove_outliers(sigma = 7)\n",
    "\n",
    "# Normalize\n",
    "lc = lc.normalize()\n",
    "\n",
    "#Detrend\n",
    "lc = lc.flatten(window_length = 1001)"
   ]
  },
  {
   "cell_type": "markdown",
   "id": "d0c7d399",
   "metadata": {},
   "source": [
    "Now pass the light curve data to Pyriod to begin you interactive frequency analysis."
   ]
  },
  {
   "cell_type": "code",
   "execution_count": null,
   "id": "36e29909",
   "metadata": {},
   "outputs": [],
   "source": [
    "# Send the light curve to Pyriod for analysis\n",
    "pyriod = Pyriod(lc, amp_unit='ppt', freq_unit='muHz')"
   ]
  },
  {
   "cell_type": "markdown",
   "id": "58afdbdc",
   "metadata": {},
   "source": [
    "Pyriod has four interactive cell types: TimeSeries, Periodogram, Signals, and Log.\n",
    "\n",
    "Let's display these in the next four cells. Information about how to interact with each can be displayed by clicking the \"info\" bar."
   ]
  },
  {
   "cell_type": "code",
   "execution_count": null,
   "id": "36508b2f",
   "metadata": {},
   "outputs": [],
   "source": [
    "#Display TimeSeries widget\n",
    "pyriod.TimeSeries()"
   ]
  },
  {
   "cell_type": "code",
   "execution_count": null,
   "id": "82f9e1ac",
   "metadata": {},
   "outputs": [],
   "source": [
    "#Display Periodogram widget\n",
    "pyriod.Periodogram()"
   ]
  },
  {
   "cell_type": "code",
   "execution_count": null,
   "id": "0b1781a4",
   "metadata": {},
   "outputs": [],
   "source": [
    "#Display Signals widget\n",
    "pyriod.Signals()"
   ]
  },
  {
   "cell_type": "code",
   "execution_count": null,
   "id": "952aa604",
   "metadata": {},
   "outputs": [],
   "source": [
    "#Display Log widget\n",
    "pyriod.Log()"
   ]
  },
  {
   "cell_type": "markdown",
   "id": "c88c0f99",
   "metadata": {},
   "source": [
    "You can interact with the cells above in any order, and each cell will update based on interactions with the others. \n",
    "\n",
    "Here are some things to try:\n",
    " - \n",
    " - \n",
    " - \n",
    " - \n",
    " -\n",
    " \n",
    "You can also display all widgets in different tabs of the same cell as follows, if you prefer."
   ]
  },
  {
   "cell_type": "code",
   "execution_count": null,
   "id": "b2d78128",
   "metadata": {},
   "outputs": [],
   "source": [
    "pyriod.Pyriod()"
   ]
  },
  {
   "cell_type": "markdown",
   "id": "99f168bc",
   "metadata": {},
   "source": [
    "If you experience any issues or have comments or questions, you can email me at keatonb@uw.edu, open an issue [on Github](https://github.com/keatonb/Pyriod/issues), Tweet to [@astrokeat](https://www.twitter.com/astrokeat), or connect with me at the conference!"
   ]
  }
 ],
 "metadata": {
  "kernelspec": {
   "display_name": "Python 3",
   "language": "python",
   "name": "python3"
  },
  "language_info": {
   "codemirror_mode": {
    "name": "ipython",
    "version": 3
   },
   "file_extension": ".py",
   "mimetype": "text/x-python",
   "name": "python",
   "nbconvert_exporter": "python",
   "pygments_lexer": "ipython3",
   "version": "3.7.5"
  }
 },
 "nbformat": 4,
 "nbformat_minor": 5
}
