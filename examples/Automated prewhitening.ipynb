{
 "cells": [
  {
   "cell_type": "markdown",
   "id": "f408083a-42c6-469b-a7d6-bb1e4122be50",
   "metadata": {},
   "source": [
    "Automating iterative prewhitening with Pyriod is possible. You have to set it up yourself currently, but I'll eventually add some convenience functions. If there are incoherent signals in the data, this approach will pick up many densely clustered peaks around the main variability frequency, which you can try to recognize later. When it comes to aliasing, it will pick the alias with the highest peak. This approach will not identify combination frequencies (something else I could try to add). Here I imagine we want to prewhiten all frequencies within a specified range of frequencies, above some significance threshold."
   ]
  },
  {
   "cell_type": "code",
   "execution_count": 1,
   "id": "86c7a250-b4ef-49df-a972-64af7aa42e7e",
   "metadata": {},
   "outputs": [],
   "source": [
    "%matplotlib widget\n",
    "import lightkurve as lk\n",
    "from Pyriod import Pyriod\n",
    "import numpy as np\n",
    "import matplotlib.pyplot as plt"
   ]
  },
  {
   "cell_type": "code",
   "execution_count": 2,
   "id": "b0a67680-aaf2-4019-8d2e-f34fe0b86beb",
   "metadata": {},
   "outputs": [
    {
     "name": "stderr",
     "output_type": "stream",
     "text": [
      "Warning: 30% (5871/19412) of the cadences will be ignored due to the quality mask (quality_bitmask=175).\n"
     ]
    }
   ],
   "source": [
    "#Download light curve of a DBV white dwarf pulsator observed by TESS\n",
    "#Then smooth and remove outliers\n",
    "lc = lk.search_lightcurve('TIC 257459955',mission='TESS',sector=3)[0].download().remove_outliers(5).flatten(2161)"
   ]
  },
  {
   "cell_type": "code",
   "execution_count": 3,
   "id": "c7f87199-0279-4626-b004-55de1e0bbe56",
   "metadata": {},
   "outputs": [
    {
     "name": "stdout",
     "output_type": "stream",
     "text": [
      "     include         freq  fixfreq   freqerr       amp  fixamp    amperr  \\\n",
      "f0      True  1561.199620    False  0.005563  0.025683   False  0.000516   \n",
      "f1      True  1473.976427    False  0.013710  0.015332   False  0.000824   \n",
      "f2      True  1673.496956    False  0.009817  0.014554   False  0.000483   \n",
      "f3      True  3035.236745    False  0.021199  0.006749   False  0.000993   \n",
      "f4      True  3234.663259    False  0.022745  0.006292   False  0.000506   \n",
      "f5      True  3122.449479    False  0.029653  0.004826   False  0.000649   \n",
      "f6      True  1793.245936    False  0.030109  0.004744   False  0.000553   \n",
      "f7      True  2059.566244    False  0.031747  0.004506   False  0.009835   \n",
      "f8      True  1653.864412    False  0.034661  0.004124   False  0.000482   \n",
      "f9      True  1334.576842    False  0.037555  0.003805   False  0.001424   \n",
      "f10     True  1473.501752    False  0.071454  0.003055   False  0.000737   \n",
      "f11     True  1154.784949    False  0.047267  0.003021   False  0.000482   \n",
      "\n",
      "        phase  fixphase  phaseerr         per    pererr        snr  \n",
      "f0   0.666854     False  0.052762  640.533079  0.002282  42.961629  \n",
      "f1   0.501895     False  0.086775  678.436901  0.006310  26.673009  \n",
      "f2   0.816946     False  0.570302  597.551132  0.003505  24.918100  \n",
      "f3   0.660257     False  0.307857  329.463592  0.002301  11.086044  \n",
      "f4   0.287311     False  0.516773  309.151191  0.002174  10.689415  \n",
      "f5   0.071938     False  0.378122  320.261387  0.003041   7.875617  \n",
      "f6   0.231193     False  0.256908  557.647995  0.009363   8.202263  \n",
      "f7   0.886956     False  2.714747  485.539129  0.007484   7.715626  \n",
      "f8   0.566775     False  7.435995  604.644488  0.012672   6.953467  \n",
      "f9   0.877933     False  0.320172  749.301178  0.021085   6.133039  \n",
      "f10  0.522238     False  0.419297  678.655454  0.032910   5.313893  \n",
      "f11  0.683536     False  0.025379  865.962100  0.035445   5.652917  \n"
     ]
    }
   ],
   "source": [
    "# We want to prewhiten everything in a range of frequencies.\n",
    "minfreq = 500 # muHz default for Pyriod\n",
    "maxfreq = None # Nyquist\n",
    "\n",
    "# Initialize Pyriod. To make this fast, we do not need it to be handling inteactivity or plots.\n",
    "pyriod = Pyriod(lc, minfreq=minfreq, maxfreq=maxfreq, gui=False)\n",
    "\n",
    "# Need a significance threshold to prewhiten down to\n",
    "# We will update this as we go\n",
    "pyriod.calculate_significance_threshold(multiplier = 5, # Change scaling factor for significance relative to average noise\n",
    "                                        startfreq=minfreq,\n",
    "                                        endfreq=None,\n",
    "                                        freqstep=100,\n",
    "                                        winwidth=100,\n",
    "                                        avgtype='mean')\n",
    "\n",
    "#What we compare: our significance threshold to the amplitude spectrum of residuals\n",
    "sigthresh = pyriod.noise_spectrum(pyriod.freqs)*pyriod.significance_multiplier # a bit cumbersome\n",
    "amplitudespectrum = pyriod.per_resid.power.value # amplitudes\n",
    "frequencies = pyriod.freqs\n",
    "abovethreshold = np.where(pyriod.per_resid.power.value > sigthresh)[0]\n",
    "\n",
    "i=0\n",
    "while len(abovethreshold) > 0:\n",
    "    # Identify the frequency with highest significant peak\n",
    "    peakfreq = frequencies[abovethreshold[np.argmax(amplitudespectrum[abovethreshold])]]\n",
    "    peakamp = pyriod.interpls(peakfreq) # Amplitude estimate for a good fit\n",
    "    # I need to address why the values below have to be passes as a list, I thought I have fixed that.\n",
    "    pyriod.add_signal([peakfreq], amp=[peakamp]) # add highest amplitude peak from periodogram of residuals \n",
    "    pyriod.fit_model() # refine least-squares fit to light curve\n",
    "\n",
    "    # Update significance threshold and current amplitude spectrum of residuals\n",
    "    pyriod.calculate_significance_threshold(multiplier = 5, \n",
    "                                            startfreq=minfreq,\n",
    "                                            endfreq=None,\n",
    "                                            freqstep=100,\n",
    "                                            winwidth=100,\n",
    "                                            avgtype='mean')\n",
    "    sigthresh = pyriod.noise_spectrum(pyriod.freqs)*pyriod.significance_multiplier # a bit cumbersome\n",
    "    amplitudespectrum = pyriod.per_resid.power.value # amplitudes\n",
    "    abovethreshold = np.where(pyriod.per_resid.power.value > sigthresh)[0]\n",
    "\n",
    "# This could be a long or infinite loop if you set you significance threshold to something too low\n",
    "# But hopefully it ends\n",
    "\n",
    "# Print the frequency solution\n",
    "print(pyriod.fitvalues)\n",
    "\n",
    "# Save the frequency solution to be loaded into a Pyriod instance with the gui\n",
    "pyriod.save_solution(filename = 'autoprewhitened.csv')"
   ]
  },
  {
   "cell_type": "code",
   "execution_count": 4,
   "id": "d313889e-169e-4971-9598-403b27f75440",
   "metadata": {},
   "outputs": [
    {
     "name": "stderr",
     "output_type": "stream",
     "text": [
      "/Users/keatonb/anaconda3/lib/python3.12/site-packages/Pyriod/Pyriod.py:1492: FutureWarning: Series.__getitem__ treating keys as positions is deprecated. In a future version, integer keys will always be treated as labels (consistent with DataFrame behavior). To access a value by position, use `ser.iloc[pos]`\n",
      "  + ': {:.8f} '.format(self.fitvalues.freq[i])\n"
     ]
    },
    {
     "data": {
      "application/vnd.jupyter.widget-view+json": {
       "model_id": "8ffeba674f244a49a72071b8603caaef",
       "version_major": 2,
       "version_minor": 0
      },
      "text/plain": [
       "Tab(children=(VBox(children=(HTML(value=''), Canvas(toolbar=Toolbar(toolitems=[('Home', 'Reset original view',…"
      ]
     },
     "execution_count": 4,
     "metadata": {},
     "output_type": "execute_result"
    }
   ],
   "source": [
    "pyriodgui = Pyriod(lc, minfreq=minfreq, maxfreq=maxfreq, gui=True)\n",
    "pyriodgui.load_solution(filename = 'autoprewhitened.csv')\n",
    "# solution is staged, but not fitted to the data yet without a last call to fit_model\n",
    "pyriodgui.fit_model()\n",
    "# reculculate and display significance threshold\n",
    "pyriodgui.calculate_significance_threshold(multiplier = 5, \n",
    "                                           startfreq=minfreq,\n",
    "                                           endfreq=None,\n",
    "                                           freqstep=100,\n",
    "                                           winwidth=100,\n",
    "                                           avgtype='mean')\n",
    "pyriodgui.Pyriod()"
   ]
  }
 ],
 "metadata": {
  "kernelspec": {
   "display_name": "Python 3 (ipykernel)",
   "language": "python",
   "name": "python3"
  },
  "language_info": {
   "codemirror_mode": {
    "name": "ipython",
    "version": 3
   },
   "file_extension": ".py",
   "mimetype": "text/x-python",
   "name": "python",
   "nbconvert_exporter": "python",
   "pygments_lexer": "ipython3",
   "version": "3.12.7"
  }
 },
 "nbformat": 4,
 "nbformat_minor": 5
}
